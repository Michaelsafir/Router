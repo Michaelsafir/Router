{
 "cells": [
  {
   "cell_type": "code",
   "execution_count": 291,
   "metadata": {},
   "outputs": [],
   "source": [
    "#!/usr/bin/env python\n",
    "\n",
    "#Safir Mikhail 18.02.2021 \n",
    "\n",
    "import os\n",
    "import json\n",
    "import random\n",
    "import time\n",
    "import numpy\n",
    "import math\n",
    "import matplotlib.pyplot as plt\n",
    "from IPython.display import clear_output\n",
    "\n",
    "%matplotlib inline"
   ]
  },
  {
   "cell_type": "code",
   "execution_count": 585,
   "metadata": {},
   "outputs": [],
   "source": [
    "class Settings:\n",
    "    devices = 10 # Number of devices in the simulation\n",
    "    signal_per_device_gain = 150 \n",
    "    signal_per_device_zone = 100\n",
    "    end_x = 800\n",
    "    end_y = 800\n",
    "    \n",
    "settings = Settings()"
   ]
  },
  {
   "cell_type": "code",
   "execution_count": 586,
   "metadata": {},
   "outputs": [],
   "source": [
    "class Device:\n",
    "    device_id = 0\n",
    "    x = 0\n",
    "    y = 0\n",
    "    device_type = \"mobile\" #tower\n",
    "    in_zone = False"
   ]
  },
  {
   "cell_type": "code",
   "execution_count": 587,
   "metadata": {},
   "outputs": [],
   "source": [
    "class Draw:\n",
    "\n",
    "    def draw_once(self, devices, graph_devices):\n",
    "        plt.figure(figsize=(10, 10))\n",
    "        fig = plt.gcf()\n",
    "        ax = fig.gca()\n",
    "        \n",
    "            \n",
    "        for i in range(0, len(devices)):\n",
    "            ax.add_artist(plt.Circle((devices[i].x, devices[i].y), settings.signal_per_device_zone, color='r', fill=False))\n",
    "            \n",
    "        for i in range(0, len(devices)):\n",
    "            plt.plot(devices[i].x, devices[i].y, 'o', color=\"blue\")\n",
    "            plt.text(devices[i].x, devices[i].y+25, str(devices[i].device_id), fontdict=None, horizontalalignment='center', verticalalignment='center')\n",
    "\n",
    "        for i in range(0, len(devices)):\n",
    "            if (graph_devices.get(devices[i]) is None):\n",
    "                pass\n",
    "            else:\n",
    "                for k in range(0, len(graph_devices.get(devices[i]))):\n",
    "                    reach_device = graph_devices.get(devices[i])[k]\n",
    "                    plt.plot([devices[i].x, reach_device.x], [devices[i].y, reach_device.y], 'ro-')\n",
    "            \n",
    "        plt.plot(0, 0, 'o')\n",
    "        plt.plot(1000, 1000, 'o')\n",
    "        \n",
    "        plt.title(\"Routing\")\n",
    "        plt.grid(False)\n",
    "        plt.show();\n",
    "\n",
    "    \n",
    "    def draw(self, devices, graph_devices):\n",
    "        \n",
    "        clear_output(wait=True)\n",
    "        plt.figure(figsize=(10, 10))\n",
    "        \n",
    "        \n",
    "        fig = plt.gcf()\n",
    "        ax = fig.gca()\n",
    "        \n",
    "        for i in range(0, len(devices)):\n",
    "            ax.add_artist(plt.Circle((devices[i].x, devices[i].y), settings.signal_per_device_zone, color='r', fill=False))\n",
    "            \n",
    "        for i in range(0, len(devices)):\n",
    "            plt.plot(devices[i].x, devices[i].y, 'o', color=\"blue\")\n",
    "            plt.text(devices[i].x, devices[i].y+25, str(devices[i].device_id), fontdict=None, horizontalalignment='center', verticalalignment='center')\n",
    "\n",
    "        for i in range(0, len(devices)):\n",
    "            if (graph_devices.get(devices[i]) is None):\n",
    "                pass\n",
    "            else:\n",
    "                for k in range(0, len(graph_devices.get(devices[i]))):\n",
    "                    reach_device = graph_devices.get(devices[i])[k]\n",
    "                    plt.plot([devices[i].x, reach_device.x], [devices[i].y, reach_device.y], 'ro-')\n",
    "            \n",
    "        plt.plot(0, 0, 'o')\n",
    "        plt.plot(1000, 1000, 'o')\n",
    "        \n",
    "        plt.title(\"Routing\")\n",
    "        plt.grid(False)\n",
    "        plt.show();"
   ]
  },
  {
   "cell_type": "code",
   "execution_count": 591,
   "metadata": {},
   "outputs": [],
   "source": [
    "class Generator:\n",
    "    \n",
    "    def collision(self, devices):\n",
    "        collision_main = {}\n",
    "        collision_main_device = {}\n",
    "        \n",
    "        for i in range(0, len(devices)):\n",
    "            device_current = devices[i]\n",
    "            collision_array = [device_current.device_id, []]\n",
    "            collision_array_device = [device_current, []]\n",
    "            \n",
    "            for j in range(0, len(devices)):\n",
    "                device_to_reach = devices[j]\n",
    "                if (device_current == device_to_reach):\n",
    "                    continue;\n",
    "                distance = math.sqrt( ((int(device_current.x)-int(device_to_reach.x))**2)+((int(device_current.y)-int(device_to_reach.y))**2) )\n",
    "                    \n",
    "                if (distance < (settings.signal_per_device_zone * 2)):\n",
    "                    collision_array_device[1].append(device_to_reach\n",
    "                                                    )\n",
    "                    collision_array[1].append(device_to_reach.device_id)\n",
    "#                     print(\"device \" + str(device_current.device_id) + \" reached \" + str(device_to_reach.device_id) + \" with dis \" + str(distance))\n",
    "\n",
    "            if (len(collision_array[1]) > 0):\n",
    "                collision_main[device_current.device_id] = collision_array[1]\n",
    "                collision_main_device[device_current] = collision_array_device[1]\n",
    "        return collision_main, collision_main_device\n",
    "    \n",
    "    def walk(self, devices):\n",
    "        \n",
    "        devices_new = []\n",
    "            \n",
    "        for i in range(0, len(devices)):\n",
    "            x = devices[i].x\n",
    "            y = devices[i].y\n",
    "            n_x, n_y = random.randint(-15, 15), random.randint(-15, 15)\n",
    "            x += n_x\n",
    "            y += n_y\n",
    "            \n",
    "            device = Device()\n",
    "            device.device_id = devices[i].device_id\n",
    "            device.x = x\n",
    "            device.y = y\n",
    "            \n",
    "            devices_new.append(device)\n",
    "            \n",
    "        return devices_new\n",
    "            \n",
    "    \n",
    "    def start(self):\n",
    "        devices = [] #Device array with classes\n",
    "        \n",
    "        for i in range(0, settings.devices):\n",
    "            x, y = random.randint(100, settings.end_x),  random.randint(100, settings.end_y)\n",
    "            \n",
    "            device = Device()\n",
    "            device.device_id = i\n",
    "            device.x = x\n",
    "            device.y = y\n",
    "            \n",
    "            devices.append(device)\n",
    "            \n",
    "        return devices\n",
    "        pass"
   ]
  },
  {
   "cell_type": "code",
   "execution_count": 604,
   "metadata": {},
   "outputs": [],
   "source": [
    "class Router:\n",
    "    \n",
    "    generator = Generator()\n",
    "    draw = Draw()\n",
    "    devices = []\n",
    "    graph = {}\n",
    "    graph_devices = {}\n",
    "    \n",
    "    def build(self):\n",
    "        plt.ion()\n",
    "        self.devices = self.generator.start()\n",
    "        self.graph, self.graph_devices = self.generator.collision(self.devices)\n",
    "        print(self.graph)\n",
    "        self.draw.draw_once(self.devices, self.graph_devices)\n",
    "        \n",
    "#         while True:\n",
    "#             self.devices = self.generator.walk(self.devices)\n",
    "#             self.graph, self.graph_devices = self.generator.collision(self.devices)\n",
    "# #             self.draw.draw_once(self.devices, self.graph_devices)\n",
    "#             self.draw.draw(self.devices, self.graph_devices)\n",
    "#             plt.pause(0.5)\n",
    "        pass\n",
    "    \n",
    "    def start(self):\n",
    "        self.build()\n",
    "        pass"
   ]
  },
  {
   "cell_type": "code",
   "execution_count": 605,
   "metadata": {},
   "outputs": [
    {
     "name": "stdout",
     "output_type": "stream",
     "text": [
      "{0: [6], 1: [4], 2: [5, 7], 3: [8, 9], 4: [1, 5], 5: [2, 4, 7], 6: [0], 7: [2, 5], 8: [3], 9: [3]}\n"
     ]
    },
    {
     "data": {
      "image/png": "[encoded data removed]",
      "text/plain": [
       "<Figure size 720x720 with 1 Axes>"
      ]
     },
     "metadata": {
      "needs_background": "light"
     },
     "output_type": "display_data"
    },
    {
     "name": "stdout",
     "output_type": "stream",
     "text": [
      "{0: [6], 1: [4], 2: [5, 7], 3: [8, 9], 4: [1, 5], 5: [2, 4, 7], 6: [0], 7: [2, 5], 8: [3], 9: [3]}\n"
     ]
    }
   ],
   "source": [
    "router = Router() # call public class\n",
    "settings.devices = 10\n",
    "settings.signal_per_device_zone = 100\n",
    "router.start()\n",
    "\n",
    "print(router.graph)"
   ]
  },
  {
   "cell_type": "code",
   "execution_count": 563,
   "metadata": {},
   "outputs": [],
   "source": [
    "def dfs_paths(graph, start, goal):\n",
    "    stack = [(start, [start])]  # (vertex, path)\n",
    "    while stack:\n",
    "        (vertex, path) = stack.pop()\n",
    "        for next in set(graph[vertex]) - set(path):\n",
    "            if next == goal:\n",
    "                yield path + [next]\n",
    "            else:\n",
    "                stack.append((next, path + [next]))"
   ]
  },
  {
   "cell_type": "code",
   "execution_count": 599,
   "metadata": {},
   "outputs": [
    {
     "name": "stdout",
     "output_type": "stream",
     "text": [
      "[[2, 6, 4, 8, 1], [2, 6, 4, 8, 9, 7, 0, 5, 1], [2, 6, 4, 8, 9, 5, 1], [2, 6, 4, 8, 9, 0, 5, 1], [2, 6, 4, 8, 5, 1]]\n"
     ]
    },
    {
     "data": {
      "text/plain": [
       "True"
      ]
     },
     "execution_count": 599,
     "metadata": {},
     "output_type": "execute_result"
    }
   ],
   "source": [
    "print(list(dfs_paths(router.graph, 2, 1)))\n",
    "router.graph.get(100) is None"
   ]
  },
  {
   "cell_type": "code",
   "execution_count": null,
   "metadata": {},
   "outputs": [],
   "source": []
  }
 ],
 "metadata": {
  "kernelspec": {
   "display_name": "Python 3",
   "language": "python",
   "name": "python3"
  },
  "language_info": {
   "codemirror_mode": {
    "name": "ipython",
    "version": 3
   },
   "file_extension": ".py",
   "mimetype": "text/x-python",
   "name": "python",
   "nbconvert_exporter": "python",
   "pygments_lexer": "ipython3",
   "version": "3.9.1"
  }
 },
 "nbformat": 4,
 "nbformat_minor": 4
}
