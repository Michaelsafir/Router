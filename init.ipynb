{
 "cells": [
  {
   "cell_type": "code",
   "execution_count": 291,
   "metadata": {},
   "outputs": [],
   "source": [
    "#!/usr/bin/env python\n",
    "\n",
    "#Safir Mikhail 18.02.2021 \n",
    "\n",
    "import os\n",
    "import json\n",
    "import random\n",
    "import time\n",
    "import numpy\n",
    "import math\n",
    "import matplotlib.pyplot as plt\n",
    "from IPython.display import clear_output\n",
    "\n",
    "%matplotlib inline"
   ]
  },
  {
   "cell_type": "code",
   "execution_count": 300,
   "metadata": {},
   "outputs": [],
   "source": [
    "class Settings:\n",
    "    devices = 10 # Number of devices in the simulation\n",
    "    signal_per_device_gain = 150 \n",
    "    signal_per_device_zone = 100\n",
    "    end_x = 800\n",
    "    end_y = 800\n",
    "    \n",
    "settings = Settings()"
   ]
  },
  {
   "cell_type": "code",
   "execution_count": 305,
   "metadata": {},
   "outputs": [],
   "source": [
    "class Draw:\n",
    "\n",
    "    def draw_once(self, points):\n",
    "        plt.figure(figsize=(10, 10))\n",
    "        fig = plt.gcf()\n",
    "        ax = fig.gca()\n",
    "        \n",
    "        for i in range(0, len(points[0])):\n",
    "            ax.add_artist(plt.Circle((points[0][i], points[1][i]), settings.signal_per_device_zone, color='r', fill=False))\n",
    "\n",
    "        plt.plot(points[0], points[1], 'o')\n",
    "        plt.plot(0, 0, 'o')\n",
    "        plt.plot(1000, 1000, 'o')\n",
    "        \n",
    "        plt.title(\"Routing\")\n",
    "        plt.grid(False)\n",
    "        plt.show();\n",
    "\n",
    "    \n",
    "    def draw(self, points):\n",
    "        \n",
    "        clear_output(wait=True)\n",
    "        plt.figure(figsize=(10, 10))\n",
    "        \n",
    "        \n",
    "        fig = plt.gcf()\n",
    "        ax = fig.gca()\n",
    "        \n",
    "        for i in range(0, len(points[0])):\n",
    "            ax.add_artist(plt.Circle((points[0][i], points[1][i]), settings.signal_per_device_zone, color='r', fill=False))\n",
    "\n",
    "        plt.plot(points[0], points[1], 'o')\n",
    "        plt.plot(0, 0, 'o')\n",
    "        plt.plot(1000, 1000, 'o')\n",
    "        \n",
    "        plt.title(\"Routing\")\n",
    "        plt.grid(False)\n",
    "        plt.show();"
   ]
  },
  {
   "cell_type": "code",
   "execution_count": 306,
   "metadata": {},
   "outputs": [],
   "source": [
    "class Generator:\n",
    "    \n",
    "    \n",
    "    def walk(self, points):\n",
    "        start_points_x = []\n",
    "        start_points_y = []\n",
    "        for i in range(0, len(points[0])):\n",
    "            now_x = points[0][i]\n",
    "            now_y = points[1][i]\n",
    "            x, y = random.randint(-3, 3), random.randint(-3, 3)\n",
    "            now_x += x\n",
    "            now_y += y\n",
    "            start_points_x.append(now_x)\n",
    "            start_points_y.append(now_y)\n",
    "        return [start_points_x, start_points_y]\n",
    "            \n",
    "    \n",
    "    def start(self):\n",
    "        start_points_x = []\n",
    "        start_points_y = []\n",
    "        for i in range(0, settings.devices):\n",
    "            x, y = random.randint(100, settings.end_x),  random.randint(100, settings.end_y)\n",
    "            start_points_x.append(x)\n",
    "            start_points_y.append(y)\n",
    "        return [start_points_x, start_points_y]\n",
    "        pass"
   ]
  },
  {
   "cell_type": "code",
   "execution_count": 318,
   "metadata": {},
   "outputs": [],
   "source": [
    "class Router:\n",
    "    \n",
    "    generator = Generator()\n",
    "    draw = Draw()\n",
    "    points = []\n",
    "    \n",
    "    def build(self):\n",
    "        plt.ion()\n",
    "        points = self.generator.start()\n",
    "        self.draw.draw_once(points)\n",
    "#         while True:\n",
    "#             points = self.generator.walk(points)\n",
    "#             self.draw.draw(points)\n",
    "#             plt.pause(0.5)\n",
    "        pass\n",
    "    \n",
    "    def start(self):\n",
    "        self.build()\n",
    "        pass"
   ]
  },
  {
   "cell_type": "code",
   "execution_count": 327,
   "metadata": {},
   "outputs": [
    {
     "data": {
      "image/png": "[encoded data removed]",
      "text/plain": [
       "<Figure size 720x720 with 1 Axes>"
      ]
     },
     "metadata": {
      "needs_background": "light"
     },
     "output_type": "display_data"
    }
   ],
   "source": [
    "router = Router() # call public class\n",
    "settings.devices = 5\n",
    "settings.signal_per_device_zone = 70\n",
    "router.start()"
   ]
  },
  {
   "cell_type": "code",
   "execution_count": 335,
   "metadata": {},
   "outputs": [
    {
     "name": "stdout",
     "output_type": "stream",
     "text": [
      "11.045361017187261\n"
     ]
    }
   ],
   "source": [
    "import numpy as np\n",
    "from scipy.spatial.distance import cdist\n",
    "\n",
    "x = np.array([[2,1]])\n",
    "y = np.array([[10,5], [13,2], [60,60]])\n",
    "\n",
    "d = cdist(x,y)\n",
    "\n",
    "print(d[0][1])"
   ]
  },
  {
   "cell_type": "code",
   "execution_count": null,
   "metadata": {},
   "outputs": [],
   "source": []
  }
 ],
 "metadata": {
  "kernelspec": {
   "display_name": "Python 3",
   "language": "python",
   "name": "python3"
  },
  "language_info": {
   "codemirror_mode": {
    "name": "ipython",
    "version": 3
   },
   "file_extension": ".py",
   "mimetype": "text/x-python",
   "name": "python",
   "nbconvert_exporter": "python",
   "pygments_lexer": "ipython3",
   "version": "3.9.1"
  }
 },
 "nbformat": 4,
 "nbformat_minor": 4
}
