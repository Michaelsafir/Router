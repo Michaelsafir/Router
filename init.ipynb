{
 "cells": [
  {
   "cell_type": "code",
   "execution_count": 155,
   "metadata": {},
   "outputs": [],
   "source": [
    "#!/usr/bin/env python\n",
    "\n",
    "#Safir Mikhail 18.02.2021 \n",
    "\n",
    "import os\n",
    "import json\n",
    "import random\n",
    "import time\n",
    "import numpy\n",
    "import math\n",
    "import matplotlib.pyplot as plt\n",
    "from IPython.display import clear_output\n",
    "\n",
    "%matplotlib inline"
   ]
  },
  {
   "cell_type": "code",
   "execution_count": 209,
   "metadata": {},
   "outputs": [],
   "source": [
    "class Settings:\n",
    "    devices = 10 # Number of devices in the simulation\n",
    "    signal_per_device_gain = 150 \n",
    "    signal_per_device_zone = 20\n",
    "    end_x = 800\n",
    "    end_y = 800\n",
    "    \n",
    "settings = Settings()"
   ]
  },
  {
   "cell_type": "code",
   "execution_count": 210,
   "metadata": {},
   "outputs": [],
   "source": [
    "class Draw:\n",
    "\n",
    "    def draw(self, points):\n",
    "        \n",
    "        clear_output(wait=True)\n",
    "        plt.figure(figsize=(10, 10))\n",
    "        \n",
    "        plt.plot(points[0], points[1], 'o')\n",
    "        plt.plot(0, 0, 'o')\n",
    "        plt.plot(1000, 1000, 'o')\n",
    "        \n",
    "        plt.title(\"Routing\")\n",
    "        plt.grid(False)\n",
    "        plt.show();\n",
    "\n",
    "        print(points)"
   ]
  },
  {
   "cell_type": "code",
   "execution_count": 211,
   "metadata": {},
   "outputs": [],
   "source": [
    "class Generator:\n",
    "    \n",
    "    \n",
    "    def walk(self, points):\n",
    "        start_points_x = []\n",
    "        start_points_y = []\n",
    "        for i in range(0, len(points[0])):\n",
    "            now_x = points[0][i]\n",
    "            now_y = points[1][i]\n",
    "            x, y = random.randint(-1, 1), random.randint(-1, 1)\n",
    "            now_x += x\n",
    "            now_y += y\n",
    "            start_points_x.append(now_x)\n",
    "            start_points_y.append(now_y)\n",
    "        return [start_points_x, start_points_y]\n",
    "            \n",
    "    \n",
    "    def start(self):\n",
    "        start_points_x = []\n",
    "        start_points_y = []\n",
    "        for i in range(0, settings.devices):\n",
    "            x, y = random.randint(100, settings.end_x),  random.randint(100, settings.end_y)\n",
    "            start_points_x.append(x)\n",
    "            start_points_y.append(y)\n",
    "        return [start_points_x, start_points_y]\n",
    "        pass"
   ]
  },
  {
   "cell_type": "code",
   "execution_count": 212,
   "metadata": {},
   "outputs": [],
   "source": [
    "class Router:\n",
    "    \n",
    "    generator = Generator()\n",
    "    draw = Draw()\n",
    "    points = []\n",
    "    \n",
    "    def build(self):\n",
    "        plt.ion()\n",
    "        points = self.generator.start()\n",
    "        self.draw.draw(points)\n",
    "        plt.pause(1.5)\n",
    "        while True:\n",
    "            points = self.generator.walk(points)\n",
    "            self.draw.draw(points)\n",
    "            plt.pause(0.5)\n",
    "        pass\n",
    "    \n",
    "    def start(self):\n",
    "        self.build()\n",
    "        pass"
   ]
  },
  {
   "cell_type": "code",
   "execution_count": null,
   "metadata": {},
   "outputs": [
    {
     "data": {
      "image/png": "[encoded data removed]",
      "text/plain": [
       "<Figure size 720x720 with 1 Axes>"
      ]
     },
     "metadata": {
      "needs_background": "light"
     },
     "output_type": "display_data"
    },
    {
     "name": "stdout",
     "output_type": "stream",
     "text": [
      "[[237, 414, 318, 194, 374, 306, 100, 696, 350, 543, 649, 374, 254, 474, 117, 808, 271, 671, 124, 560, 366, 421, 639, 180, 448, 203, 744, 654, 274, 297, 740, 558, 524, 250, 222, 300, 351, 703, 239, 389, 636, 528, 740, 349, 230, 552, 609, 663, 325, 429], [228, 301, 409, 810, 391, 612, 504, 788, 133, 590, 724, 660, 396, 493, 364, 499, 296, 165, 538, 273, 237, 445, 792, 753, 183, 427, 389, 583, 359, 97, 749, 511, 487, 423, 320, 396, 125, 508, 740, 120, 761, 582, 432, 389, 396, 173, 296, 371, 172, 598]]\n"
     ]
    }
   ],
   "source": [
    "router = Router() # call public class\n",
    "settings.devices = 50\n",
    "\n",
    "router.start()"
   ]
  },
  {
   "cell_type": "code",
   "execution_count": null,
   "metadata": {},
   "outputs": [],
   "source": []
  },
  {
   "cell_type": "code",
   "execution_count": null,
   "metadata": {},
   "outputs": [],
   "source": []
  },
  {
   "cell_type": "code",
   "execution_count": null,
   "metadata": {},
   "outputs": [],
   "source": []
  }
 ],
 "metadata": {
  "kernelspec": {
   "display_name": "Python 3",
   "language": "python",
   "name": "python3"
  },
  "language_info": {
   "codemirror_mode": {
    "name": "ipython",
    "version": 3
   },
   "file_extension": ".py",
   "mimetype": "text/x-python",
   "name": "python",
   "nbconvert_exporter": "python",
   "pygments_lexer": "ipython3",
   "version": "3.9.1"
  }
 },
 "nbformat": 4,
 "nbformat_minor": 4
}
